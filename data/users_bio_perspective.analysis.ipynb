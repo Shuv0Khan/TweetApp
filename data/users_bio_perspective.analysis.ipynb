{
 "cells": [
  {
   "cell_type": "code",
   "execution_count": 73,
   "outputs": [],
   "source": [
    "import pandas as pd\n",
    "from tqdm import tqdm\n",
    "import pandas as pd\n",
    "import kaleido\n",
    "\n",
    "import matplotlib.pyplot as plt\n",
    "%matplotlib inline\n",
    "\n",
    "pd.options.plotting.backend = \"plotly\"\n",
    "\n",
    "import plotly.express as px\n",
    "import plotly.graph_objects as go"
   ],
   "metadata": {
    "collapsed": false,
    "pycharm": {
     "name": "#%%\n"
    }
   }
  },
  {
   "cell_type": "code",
   "execution_count": 43,
   "outputs": [
    {
     "name": "stdout",
     "output_type": "stream",
     "text": [
      "<class 'pandas.core.frame.DataFrame'>\n",
      "RangeIndex: 639763 entries, 0 to 639762\n",
      "Data columns (total 7 columns):\n",
      " #   Column              Non-Null Count   Dtype  \n",
      "---  ------              --------------   -----  \n",
      " 0   'ids'               639763 non-null  object \n",
      " 1    'TOXICITY'         639763 non-null  float64\n",
      " 2    'SEVERE_TOXICITY'  639763 non-null  float64\n",
      " 3    'IDENTITY_ATTACK'  639763 non-null  float64\n",
      " 4    'INSULT'           639763 non-null  float64\n",
      " 5    'PROFANITY'        639763 non-null  float64\n",
      " 6    'THREAT'           639763 non-null  float64\n",
      "dtypes: float64(6), object(1)\n",
      "memory usage: 34.2+ MB\n"
     ]
    },
    {
     "name": "stderr",
     "output_type": "stream",
     "text": [
      "C:\\Users\\shuvo\\AppData\\Local\\Temp\\ipykernel_7572\\3437900853.py:1: DtypeWarning: Columns (0) have mixed types. Specify dtype option on import or set low_memory=False.\n",
      "  df = pd.read_csv('users_bio_perspective.csv', header=0)\n"
     ]
    }
   ],
   "source": [
    "df = pd.read_csv('users_bio_perspective.csv', header=0)\n",
    "df.info()"
   ],
   "metadata": {
    "collapsed": false,
    "pycharm": {
     "name": "#%%\n"
    }
   }
  },
  {
   "cell_type": "code",
   "execution_count": 44,
   "outputs": [
    {
     "data": {
      "text/plain": "        'ids'   'TOXICITY'   'SEVERE_TOXICITY'   'IDENTITY_ATTACK'   'INSULT'  \\\n0  2989319032     0.101285            0.060036            0.181704   0.067941   \n1  1042385216     0.375368            0.317461            0.609838   0.301542   \n2   144965060     0.695427            0.510649            0.800897   0.634811   \n3    18975463     0.310894            0.103242            0.595503   0.293295   \n4   635586076     0.562476            0.254738            0.803341   0.467187   \n\n    'PROFANITY'   'THREAT'  \n0      0.076990   0.160009  \n1      0.311155   0.267791  \n2      0.508982   0.431851  \n3      0.156651   0.061779  \n4      0.313154   0.134482  ",
      "text/html": "<div>\n<style scoped>\n    .dataframe tbody tr th:only-of-type {\n        vertical-align: middle;\n    }\n\n    .dataframe tbody tr th {\n        vertical-align: top;\n    }\n\n    .dataframe thead th {\n        text-align: right;\n    }\n</style>\n<table border=\"1\" class=\"dataframe\">\n  <thead>\n    <tr style=\"text-align: right;\">\n      <th></th>\n      <th>'ids'</th>\n      <th>'TOXICITY'</th>\n      <th>'SEVERE_TOXICITY'</th>\n      <th>'IDENTITY_ATTACK'</th>\n      <th>'INSULT'</th>\n      <th>'PROFANITY'</th>\n      <th>'THREAT'</th>\n    </tr>\n  </thead>\n  <tbody>\n    <tr>\n      <th>0</th>\n      <td>2989319032</td>\n      <td>0.101285</td>\n      <td>0.060036</td>\n      <td>0.181704</td>\n      <td>0.067941</td>\n      <td>0.076990</td>\n      <td>0.160009</td>\n    </tr>\n    <tr>\n      <th>1</th>\n      <td>1042385216</td>\n      <td>0.375368</td>\n      <td>0.317461</td>\n      <td>0.609838</td>\n      <td>0.301542</td>\n      <td>0.311155</td>\n      <td>0.267791</td>\n    </tr>\n    <tr>\n      <th>2</th>\n      <td>144965060</td>\n      <td>0.695427</td>\n      <td>0.510649</td>\n      <td>0.800897</td>\n      <td>0.634811</td>\n      <td>0.508982</td>\n      <td>0.431851</td>\n    </tr>\n    <tr>\n      <th>3</th>\n      <td>18975463</td>\n      <td>0.310894</td>\n      <td>0.103242</td>\n      <td>0.595503</td>\n      <td>0.293295</td>\n      <td>0.156651</td>\n      <td>0.061779</td>\n    </tr>\n    <tr>\n      <th>4</th>\n      <td>635586076</td>\n      <td>0.562476</td>\n      <td>0.254738</td>\n      <td>0.803341</td>\n      <td>0.467187</td>\n      <td>0.313154</td>\n      <td>0.134482</td>\n    </tr>\n  </tbody>\n</table>\n</div>"
     },
     "execution_count": 44,
     "metadata": {},
     "output_type": "execute_result"
    }
   ],
   "source": [
    "df.head()"
   ],
   "metadata": {
    "collapsed": false,
    "pycharm": {
     "name": "#%%\n"
    }
   }
  },
  {
   "cell_type": "code",
   "execution_count": 45,
   "outputs": [
    {
     "name": "stdout",
     "output_type": "stream",
     "text": [
      "Greater than 1\n",
      "Done\n"
     ]
    }
   ],
   "source": [
    "cols = df.columns.to_list()\n",
    "cols.pop(0)\n",
    "\n",
    "for i in df.index:\n",
    "    sum = df.loc[i, cols].sum()\n",
    "    if sum > 1:\n",
    "        print('Greater than 1')\n",
    "        break\n",
    "\n",
    "print('Done')"
   ],
   "metadata": {
    "collapsed": false,
    "pycharm": {
     "name": "#%%\n"
    }
   }
  },
  {
   "cell_type": "code",
   "execution_count": 46,
   "outputs": [
    {
     "name": "stdout",
     "output_type": "stream",
     "text": [
      "Max: 0.998345 for  'INSULT'\n"
     ]
    }
   ],
   "source": [
    "max = 0\n",
    "col = ''\n",
    "for c in cols:\n",
    "    s = df.loc[:, c].max()\n",
    "    if s > max:\n",
    "        col = c\n",
    "        max = s\n",
    "\n",
    "print(f'Max: {max} for {col}')"
   ],
   "metadata": {
    "collapsed": false,
    "pycharm": {
     "name": "#%%\n"
    }
   }
  },
  {
   "cell_type": "code",
   "execution_count": 47,
   "outputs": [
    {
     "name": "stderr",
     "output_type": "stream",
     "text": [
      "C:\\Users\\shuvo\\AppData\\Local\\Temp\\ipykernel_7572\\1299571182.py:1: FutureWarning: Dropping of nuisance columns in DataFrame reductions (with 'numeric_only=None') is deprecated; in a future version this will raise TypeError.  Select only valid columns before calling the reduction.\n",
      "  df.max()\n"
     ]
    },
    {
     "data": {
      "text/plain": " 'TOXICITY'           0.997585\n 'SEVERE_TOXICITY'    0.967473\n 'IDENTITY_ATTACK'    0.987041\n 'INSULT'             0.998345\n 'PROFANITY'          0.997455\n 'THREAT'             0.994093\ndtype: float64"
     },
     "execution_count": 47,
     "metadata": {},
     "output_type": "execute_result"
    }
   ],
   "source": [
    "df.max()"
   ],
   "metadata": {
    "collapsed": false,
    "pycharm": {
     "name": "#%%\n"
    }
   }
  },
  {
   "cell_type": "code",
   "execution_count": 48,
   "outputs": [
    {
     "name": "stderr",
     "output_type": "stream",
     "text": [
      "1741912it [00:01, 970493.18it/s]\n"
     ]
    }
   ],
   "source": [
    "id_2_verdict_map = dict()\n",
    "with open('users_bio_distilbert.csv', mode='r', encoding='utf8') as fin:\n",
    "    fin.readline()\n",
    "    for line in tqdm(fin):\n",
    "        parts = line.strip().split(',')\n",
    "        id_2_verdict_map[parts[0]] = parts[-1]\n",
    "\n",
    "#id_2_verdict_map"
   ],
   "metadata": {
    "collapsed": false,
    "pycharm": {
     "name": "#%%\n"
    }
   }
  },
  {
   "cell_type": "code",
   "execution_count": 49,
   "outputs": [
    {
     "name": "stdout",
     "output_type": "stream",
     "text": [
      "anger\n"
     ]
    }
   ],
   "source": [
    "id = df.loc[0]['\\'ids\\'']\n",
    "id\n",
    "print(id_2_verdict_map.get(str(id)))"
   ],
   "metadata": {
    "collapsed": false,
    "pycharm": {
     "name": "#%%\n"
    }
   }
  },
  {
   "cell_type": "code",
   "execution_count": 51,
   "outputs": [],
   "source": [
    "all_neg_ids = set()\n",
    "for [key, val] in id_2_verdict_map.items():\n",
    "    if val in ['anger', 'fear', 'sadness']:\n",
    "        all_neg_ids.add(key)"
   ],
   "metadata": {
    "collapsed": false,
    "pycharm": {
     "name": "#%%\n"
    }
   }
  },
  {
   "cell_type": "code",
   "execution_count": 56,
   "outputs": [],
   "source": [
    "verdicts = []\n",
    "\n",
    "for i in df.index:\n",
    "    try:\n",
    "        id = str(df.loc[i]['\\'ids\\''])\n",
    "        if id in id_2_verdict_map:\n",
    "            verdicts.append(id_2_verdict_map[id])\n",
    "            all_neg_ids.discard(id)\n",
    "        else:\n",
    "            verdicts.append('other')\n",
    "\n",
    "    except Exception:\n",
    "        print(df.loc[i])\n"
   ],
   "metadata": {
    "collapsed": false,
    "pycharm": {
     "name": "#%%\n"
    }
   }
  },
  {
   "cell_type": "code",
   "execution_count": 59,
   "outputs": [
    {
     "name": "stdout",
     "output_type": "stream",
     "text": [
      "639763\n",
      "639763\n"
     ]
    }
   ],
   "source": [
    "print(len(verdicts))\n",
    "print(len(df))\n",
    "\n",
    "df['verdict'] = verdicts"
   ],
   "metadata": {
    "collapsed": false,
    "pycharm": {
     "name": "#%%\n"
    }
   }
  },
  {
   "cell_type": "code",
   "execution_count": 66,
   "outputs": [],
   "source": [
    "anger_data = df.loc[df.verdict == 'anger']\n",
    "fear_data = df.loc[df.verdict == 'fear']\n",
    "sad_data = df.loc[df.verdict == 'sadness']"
   ],
   "metadata": {
    "collapsed": false,
    "pycharm": {
     "name": "#%%\n"
    }
   }
  },
  {
   "cell_type": "code",
   "execution_count": 75,
   "outputs": [
    {
     "data": {
      "text/plain": "                      'ids'   'TOXICITY'   'SEVERE_TOXICITY'  \\\n0                2989319032     0.101285            0.060036   \n1                1042385216     0.375368            0.317461   \n2                 144965060     0.695427            0.510649   \n3                  18975463     0.310894            0.103242   \n4                 635586076     0.562476            0.254738   \n...                     ...          ...                 ...   \n639758  1281589329039630336     0.834566            0.720307   \n639759   993660792712163333     0.241703            0.128100   \n639760            260033476     0.092878            0.025754   \n639761   889910735073050627     0.142301            0.072376   \n639762  1312589386232463360     0.066126            0.022863   \n\n         'IDENTITY_ATTACK'   'INSULT'   'PROFANITY'   'THREAT' verdict  \n0                 0.181704   0.067941      0.076990   0.160009   anger  \n1                 0.609838   0.301542      0.311155   0.267791   anger  \n2                 0.800897   0.634811      0.508982   0.431851   anger  \n3                 0.595503   0.293295      0.156651   0.061779   anger  \n4                 0.803341   0.467187      0.313154   0.134482   anger  \n...                    ...        ...           ...        ...     ...  \n639758            0.428311   0.715006      0.843885   0.506163   anger  \n639759            0.241558   0.214423      0.127449   0.174230   anger  \n639760            0.028447   0.049220      0.042975   0.083434   anger  \n639761            0.094774   0.131713      0.079347   0.161846   anger  \n639762            0.024222   0.036773      0.052050   0.077324   anger  \n\n[484254 rows x 8 columns]",
      "text/html": "<div>\n<style scoped>\n    .dataframe tbody tr th:only-of-type {\n        vertical-align: middle;\n    }\n\n    .dataframe tbody tr th {\n        vertical-align: top;\n    }\n\n    .dataframe thead th {\n        text-align: right;\n    }\n</style>\n<table border=\"1\" class=\"dataframe\">\n  <thead>\n    <tr style=\"text-align: right;\">\n      <th></th>\n      <th>'ids'</th>\n      <th>'TOXICITY'</th>\n      <th>'SEVERE_TOXICITY'</th>\n      <th>'IDENTITY_ATTACK'</th>\n      <th>'INSULT'</th>\n      <th>'PROFANITY'</th>\n      <th>'THREAT'</th>\n      <th>verdict</th>\n    </tr>\n  </thead>\n  <tbody>\n    <tr>\n      <th>0</th>\n      <td>2989319032</td>\n      <td>0.101285</td>\n      <td>0.060036</td>\n      <td>0.181704</td>\n      <td>0.067941</td>\n      <td>0.076990</td>\n      <td>0.160009</td>\n      <td>anger</td>\n    </tr>\n    <tr>\n      <th>1</th>\n      <td>1042385216</td>\n      <td>0.375368</td>\n      <td>0.317461</td>\n      <td>0.609838</td>\n      <td>0.301542</td>\n      <td>0.311155</td>\n      <td>0.267791</td>\n      <td>anger</td>\n    </tr>\n    <tr>\n      <th>2</th>\n      <td>144965060</td>\n      <td>0.695427</td>\n      <td>0.510649</td>\n      <td>0.800897</td>\n      <td>0.634811</td>\n      <td>0.508982</td>\n      <td>0.431851</td>\n      <td>anger</td>\n    </tr>\n    <tr>\n      <th>3</th>\n      <td>18975463</td>\n      <td>0.310894</td>\n      <td>0.103242</td>\n      <td>0.595503</td>\n      <td>0.293295</td>\n      <td>0.156651</td>\n      <td>0.061779</td>\n      <td>anger</td>\n    </tr>\n    <tr>\n      <th>4</th>\n      <td>635586076</td>\n      <td>0.562476</td>\n      <td>0.254738</td>\n      <td>0.803341</td>\n      <td>0.467187</td>\n      <td>0.313154</td>\n      <td>0.134482</td>\n      <td>anger</td>\n    </tr>\n    <tr>\n      <th>...</th>\n      <td>...</td>\n      <td>...</td>\n      <td>...</td>\n      <td>...</td>\n      <td>...</td>\n      <td>...</td>\n      <td>...</td>\n      <td>...</td>\n    </tr>\n    <tr>\n      <th>639758</th>\n      <td>1281589329039630336</td>\n      <td>0.834566</td>\n      <td>0.720307</td>\n      <td>0.428311</td>\n      <td>0.715006</td>\n      <td>0.843885</td>\n      <td>0.506163</td>\n      <td>anger</td>\n    </tr>\n    <tr>\n      <th>639759</th>\n      <td>993660792712163333</td>\n      <td>0.241703</td>\n      <td>0.128100</td>\n      <td>0.241558</td>\n      <td>0.214423</td>\n      <td>0.127449</td>\n      <td>0.174230</td>\n      <td>anger</td>\n    </tr>\n    <tr>\n      <th>639760</th>\n      <td>260033476</td>\n      <td>0.092878</td>\n      <td>0.025754</td>\n      <td>0.028447</td>\n      <td>0.049220</td>\n      <td>0.042975</td>\n      <td>0.083434</td>\n      <td>anger</td>\n    </tr>\n    <tr>\n      <th>639761</th>\n      <td>889910735073050627</td>\n      <td>0.142301</td>\n      <td>0.072376</td>\n      <td>0.094774</td>\n      <td>0.131713</td>\n      <td>0.079347</td>\n      <td>0.161846</td>\n      <td>anger</td>\n    </tr>\n    <tr>\n      <th>639762</th>\n      <td>1312589386232463360</td>\n      <td>0.066126</td>\n      <td>0.022863</td>\n      <td>0.024222</td>\n      <td>0.036773</td>\n      <td>0.052050</td>\n      <td>0.077324</td>\n      <td>anger</td>\n    </tr>\n  </tbody>\n</table>\n<p>484254 rows × 8 columns</p>\n</div>"
     },
     "execution_count": 75,
     "metadata": {},
     "output_type": "execute_result"
    }
   ],
   "source": [
    "anger_data"
   ],
   "metadata": {
    "collapsed": false,
    "pycharm": {
     "name": "#%%\n"
    }
   }
  },
  {
   "cell_type": "code",
   "execution_count": null,
   "outputs": [],
   "source": [
    "figure = go.Figure()\n",
    "figure.add_trace(go.Box(y=anger_data[' \\'TOXICITY\\''], name='TOXICITY'))\n",
    "figure.add_trace(go.Box(y=anger_data[' \\'SEVERE_TOXICITY\\''], name='SEVERE_TOXICITY'))\n",
    "figure.add_trace(go.Box(y=anger_data[' \\'IDENTITY_ATTACK\\''], name='IDENTITY_ATTACK'))\n",
    "figure.add_trace(go.Box(y=anger_data[' \\'INSULT\\''], name='INSULT'))\n",
    "figure.add_trace(go.Box(y=anger_data[' \\'PROFANITY\\''], name='PROFANITY'))\n",
    "figure.add_trace(go.Box(y=anger_data[' \\'THREAT\\''], name='THREAT'))\n",
    "\n",
    "figure.update_layout(\n",
    "            title='Google Perspective API analysis of BIOs labeled as \\'anger\\' by DistilBERT',\n",
    "            xaxis_title = 'Perspectives',\n",
    "            yaxis_title = 'Probabilities',\n",
    "            legend_title = 'Legends')\n",
    "\n",
    "figure.show()"
   ],
   "metadata": {
    "collapsed": false,
    "pycharm": {
     "name": "#%%\n",
     "is_executing": true
    }
   }
  },
  {
   "cell_type": "code",
   "execution_count": null,
   "outputs": [],
   "source": [
    "figure = go.Figure()\n",
    "figure.add_trace(go.Box(y=fear_data[' \\'TOXICITY\\''], name='TOXICITY'))\n",
    "figure.add_trace(go.Box(y=fear_data[' \\'SEVERE_TOXICITY\\''], name='SEVERE_TOXICITY'))\n",
    "figure.add_trace(go.Box(y=fear_data[' \\'IDENTITY_ATTACK\\''], name='IDENTITY_ATTACK'))\n",
    "figure.add_trace(go.Box(y=fear_data[' \\'INSULT\\''], name='INSULT'))\n",
    "figure.add_trace(go.Box(y=fear_data[' \\'PROFANITY\\''], name='PROFANITY'))\n",
    "figure.add_trace(go.Box(y=fear_data[' \\'THREAT\\''], name='THREAT'))\n",
    "\n",
    "figure.update_layout(\n",
    "            title='Google Perspective API analysis of BIOs labeled as \\'fear\\' by DistilBERT',\n",
    "            xaxis_title = 'Perspectives',\n",
    "            yaxis_title = 'Probabilities',\n",
    "            legend_title = 'Legends')\n",
    "\n",
    "figure.show()"
   ],
   "metadata": {
    "collapsed": false,
    "pycharm": {
     "name": "#%%\n",
     "is_executing": true
    }
   }
  },
  {
   "cell_type": "code",
   "execution_count": null,
   "outputs": [],
   "source": [
    "figure = go.Figure()\n",
    "figure.add_trace(go.Box(y=sad_data[' \\'TOXICITY\\''], name='TOXICITY'))\n",
    "figure.add_trace(go.Box(y=sad_data[' \\'SEVERE_TOXICITY\\''], name='SEVERE_TOXICITY'))\n",
    "figure.add_trace(go.Box(y=sad_data[' \\'IDENTITY_ATTACK\\''], name='IDENTITY_ATTACK'))\n",
    "figure.add_trace(go.Box(y=sad_data[' \\'INSULT\\''], name='INSULT'))\n",
    "figure.add_trace(go.Box(y=sad_data[' \\'PROFANITY\\''], name='PROFANITY'))\n",
    "figure.add_trace(go.Box(y=sad_data[' \\'THREAT\\''], name='THREAT'))\n",
    "\n",
    "figure.update_layout(\n",
    "            title='Google Perspective API analysis of BIOs labeled as \\'sadness\\' by DistilBERT',\n",
    "            xaxis_title = 'Perspectives',\n",
    "            yaxis_title = 'Probabilities',\n",
    "            legend_title = 'Legends')\n",
    "\n",
    "figure.show()"
   ],
   "metadata": {
    "collapsed": false,
    "pycharm": {
     "name": "#%%\n",
     "is_executing": true
    }
   }
  }
 ],
 "metadata": {
  "kernelspec": {
   "display_name": "Python 3",
   "language": "python",
   "name": "python3"
  },
  "language_info": {
   "codemirror_mode": {
    "name": "ipython",
    "version": 2
   },
   "file_extension": ".py",
   "mimetype": "text/x-python",
   "name": "python",
   "nbconvert_exporter": "python",
   "pygments_lexer": "ipython2",
   "version": "2.7.6"
  }
 },
 "nbformat": 4,
 "nbformat_minor": 0
}