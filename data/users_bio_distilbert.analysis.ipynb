{
 "cells": [
  {
   "cell_type": "markdown",
   "metadata": {},
   "source": [
    "### Analysing the Distilbert ED\n",
    "\n",
    "Steps -\n",
    "* Read `all_user_bios.csv` file (consider the duplicates, multiline bios)\n",
    "* Remove empty bios\n",
    "* Remove all Links\n",
    "* Remove all user mentions\n",
    "* Remove all hashtags\n",
    "* Write the bio to `words_with_emoji.txt` file\n",
    "* Read and run Distilbert on each bio\n",
    "\n",
    "Look at `fileparser.user_bio_parser()` and `analyses.users_bio_ed_distilbert()` functions"
   ]
  },
  {
   "cell_type": "code",
   "execution_count": 1,
   "metadata": {},
   "outputs": [],
   "source": [
    "import pandas as pd"
   ]
  },
  {
   "cell_type": "code",
   "execution_count": 17,
   "metadata": {},
   "outputs": [
    {
     "name": "stdout",
     "output_type": "stream",
     "text": [
      "<class 'pandas.core.frame.DataFrame'>\n",
      "RangeIndex: 1741915 entries, 0 to 1741914\n",
      "Data columns (total 8 columns):\n",
      " #   Column    Dtype  \n",
      "---  ------    -----  \n",
      " 0   id        object \n",
      " 1   sadness   float64\n",
      " 2   joy       float64\n",
      " 3   love      float64\n",
      " 4   anger     float64\n",
      " 5   fear      float64\n",
      " 6   surprise  float64\n",
      " 7   verdict   object \n",
      "dtypes: float64(6), object(2)\n",
      "memory usage: 106.3+ MB\n"
     ]
    }
   ],
   "source": [
    "users_bio_distilbert = pd.read_csv('users_bio_distilbert.csv', encoding='ISO-8859-1', dtype={'id': str, 'sadness': float, 'joy': float, 'love': float, 'anger': float, 'fear': float, 'surprise': float, 'verdict': str})\n",
    "users_bio_distilbert.info()"
   ]
  },
  {
   "cell_type": "code",
   "execution_count": 18,
   "metadata": {},
   "outputs": [
    {
     "name": "stdout",
     "output_type": "stream",
     "text": [
      "<class 'pandas.core.series.Series'>\n",
      "RangeIndex: 1741915 entries, 0 to 1741914\n",
      "Series name: None\n",
      "Non-Null Count    Dtype\n",
      "--------------    -----\n",
      "1741915 non-null  bool \n",
      "dtypes: bool(1)\n",
      "memory usage: 1.7 MB\n"
     ]
    }
   ],
   "source": [
    "duplicated_ids = users_bio_distilbert.duplicated(subset='id', keep='first')\n",
    "duplicated_ids.info()"
   ]
  }
 ],
 "metadata": {
  "kernelspec": {
   "display_name": "Python 3.9.12 64-bit",
   "language": "python",
   "name": "python3"
  },
  "language_info": {
   "codemirror_mode": {
    "name": "ipython",
    "version": 3
   },
   "file_extension": ".py",
   "mimetype": "text/x-python",
   "name": "python",
   "nbconvert_exporter": "python",
   "pygments_lexer": "ipython3",
   "version": "3.9.12"
  },
  "orig_nbformat": 4,
  "vscode": {
   "interpreter": {
    "hash": "a7ec9632ab723649318b7ca7031f3d5d89aa92999d812f9776839d1395c47cf8"
   }
  }
 },
 "nbformat": 4,
 "nbformat_minor": 2
}
