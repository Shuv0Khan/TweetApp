{
 "cells": [
  {
   "cell_type": "markdown",
   "metadata": {},
   "source": [
    "### Analysing the Distilbert ED\n",
    "\n",
    "Steps -\n",
    "* Read `all_user_bios.csv` file (consider the duplicates, multiline bios)\n",
    "* Remove empty bios\n",
    "* Remove all Links\n",
    "* Remove all user mentions\n",
    "* Remove all hashtags\n",
    "* Write the bio to `words_with_emoji.txt` file\n",
    "* Read and run Distilbert on each bio\n",
    "\n",
    "Look at `fileparser.user_bio_parser()` and `analyses.users_bio_ed_distilbert()` functions"
   ]
  },
  {
   "cell_type": "code",
   "execution_count": 1,
   "metadata": {},
   "outputs": [],
   "source": [
    "import pandas as pd"
   ]
  },
  {
   "cell_type": "code",
   "execution_count": 2,
   "metadata": {},
   "outputs": [
    {
     "name": "stdout",
     "output_type": "stream",
     "text": [
      "<class 'pandas.core.frame.DataFrame'>\n",
      "RangeIndex: 1741912 entries, 0 to 1741911\n",
      "Data columns (total 8 columns):\n",
      " #   Column    Dtype  \n",
      "---  ------    -----  \n",
      " 0   id        object \n",
      " 1   sadness   float64\n",
      " 2   joy       float64\n",
      " 3   love      float64\n",
      " 4   anger     float64\n",
      " 5   fear      float64\n",
      " 6   surprise  float64\n",
      " 7   verdict   object \n",
      "dtypes: float64(6), object(2)\n",
      "memory usage: 106.3+ MB\n"
     ]
    }
   ],
   "source": [
    "users_bio_distilbert = pd.read_csv('users_bio_distilbert.csv', encoding='ISO-8859-1', dtype={'id': str, 'sadness': float, 'joy': float, 'love': float, 'anger': float, 'fear': float, 'surprise': float, 'verdict': str})\n",
    "users_bio_distilbert.info()"
   ]
  },
  {
   "cell_type": "code",
   "execution_count": 3,
   "outputs": [
    {
     "data": {
      "text/plain": "           id   sadness       joy      love     anger      fear  surprise  \\\n0   413080213  0.041237  0.758531  0.005717  0.091492  0.098849  0.004173   \n1   493832011  0.001672  0.989075  0.001292  0.005647  0.001596  0.000718   \n2  2989319032  0.031329  0.175984  0.005536  0.732789  0.050099  0.004264   \n3  1042385216  0.018754  0.298485  0.062315  0.574024  0.042194  0.004227   \n4   490149888  0.003129  0.971793  0.002522  0.017236  0.004106  0.001214   \n\n  verdict  \n0     joy  \n1     joy  \n2   anger  \n3   anger  \n4     joy  ",
      "text/html": "<div>\n<style scoped>\n    .dataframe tbody tr th:only-of-type {\n        vertical-align: middle;\n    }\n\n    .dataframe tbody tr th {\n        vertical-align: top;\n    }\n\n    .dataframe thead th {\n        text-align: right;\n    }\n</style>\n<table border=\"1\" class=\"dataframe\">\n  <thead>\n    <tr style=\"text-align: right;\">\n      <th></th>\n      <th>id</th>\n      <th>sadness</th>\n      <th>joy</th>\n      <th>love</th>\n      <th>anger</th>\n      <th>fear</th>\n      <th>surprise</th>\n      <th>verdict</th>\n    </tr>\n  </thead>\n  <tbody>\n    <tr>\n      <th>0</th>\n      <td>413080213</td>\n      <td>0.041237</td>\n      <td>0.758531</td>\n      <td>0.005717</td>\n      <td>0.091492</td>\n      <td>0.098849</td>\n      <td>0.004173</td>\n      <td>joy</td>\n    </tr>\n    <tr>\n      <th>1</th>\n      <td>493832011</td>\n      <td>0.001672</td>\n      <td>0.989075</td>\n      <td>0.001292</td>\n      <td>0.005647</td>\n      <td>0.001596</td>\n      <td>0.000718</td>\n      <td>joy</td>\n    </tr>\n    <tr>\n      <th>2</th>\n      <td>2989319032</td>\n      <td>0.031329</td>\n      <td>0.175984</td>\n      <td>0.005536</td>\n      <td>0.732789</td>\n      <td>0.050099</td>\n      <td>0.004264</td>\n      <td>anger</td>\n    </tr>\n    <tr>\n      <th>3</th>\n      <td>1042385216</td>\n      <td>0.018754</td>\n      <td>0.298485</td>\n      <td>0.062315</td>\n      <td>0.574024</td>\n      <td>0.042194</td>\n      <td>0.004227</td>\n      <td>anger</td>\n    </tr>\n    <tr>\n      <th>4</th>\n      <td>490149888</td>\n      <td>0.003129</td>\n      <td>0.971793</td>\n      <td>0.002522</td>\n      <td>0.017236</td>\n      <td>0.004106</td>\n      <td>0.001214</td>\n      <td>joy</td>\n    </tr>\n  </tbody>\n</table>\n</div>"
     },
     "execution_count": 3,
     "metadata": {},
     "output_type": "execute_result"
    }
   ],
   "source": [
    "users_bio_distilbert.head()"
   ],
   "metadata": {
    "collapsed": false,
    "pycharm": {
     "name": "#%%\n"
    }
   }
  },
  {
   "cell_type": "code",
   "execution_count": 4,
   "metadata": {},
   "outputs": [
    {
     "name": "stdout",
     "output_type": "stream",
     "text": [
      "<class 'pandas.core.series.Series'>\n",
      "RangeIndex: 1741912 entries, 0 to 1741911\n",
      "Series name: None\n",
      "Non-Null Count    Dtype\n",
      "--------------    -----\n",
      "1741912 non-null  bool \n",
      "dtypes: bool(1)\n",
      "memory usage: 1.7 MB\n"
     ]
    }
   ],
   "source": [
    "duplicated_ids = users_bio_distilbert.duplicated(subset='id', keep='first')\n",
    "duplicated_ids.info()"
   ]
  },
  {
   "cell_type": "code",
   "execution_count": 5,
   "outputs": [
    {
     "data": {
      "text/plain": "verdict\nanger      529758\nfear        86905\njoy        991504\nlove        60409\nsadness     63194\nName: id, dtype: int64"
     },
     "execution_count": 5,
     "metadata": {},
     "output_type": "execute_result"
    }
   ],
   "source": [
    "grp = users_bio_distilbert.groupby('verdict')['id'].count()\n",
    "grp.head()"
   ],
   "metadata": {
    "collapsed": false,
    "pycharm": {
     "name": "#%%\n"
    }
   }
  },
  {
   "cell_type": "code",
   "execution_count": 10,
   "outputs": [
    {
     "data": {
      "text/plain": "              id    percent\nverdict                    \nanger     529758  30.412443\nfear       86905   4.989058\njoy       991504  56.920441\nlove       60409   3.467971\nsadness    63194   3.627853\nsurprise   10142   0.582234",
      "text/html": "<div>\n<style scoped>\n    .dataframe tbody tr th:only-of-type {\n        vertical-align: middle;\n    }\n\n    .dataframe tbody tr th {\n        vertical-align: top;\n    }\n\n    .dataframe thead th {\n        text-align: right;\n    }\n</style>\n<table border=\"1\" class=\"dataframe\">\n  <thead>\n    <tr style=\"text-align: right;\">\n      <th></th>\n      <th>id</th>\n      <th>percent</th>\n    </tr>\n    <tr>\n      <th>verdict</th>\n      <th></th>\n      <th></th>\n    </tr>\n  </thead>\n  <tbody>\n    <tr>\n      <th>anger</th>\n      <td>529758</td>\n      <td>30.412443</td>\n    </tr>\n    <tr>\n      <th>fear</th>\n      <td>86905</td>\n      <td>4.989058</td>\n    </tr>\n    <tr>\n      <th>joy</th>\n      <td>991504</td>\n      <td>56.920441</td>\n    </tr>\n    <tr>\n      <th>love</th>\n      <td>60409</td>\n      <td>3.467971</td>\n    </tr>\n    <tr>\n      <th>sadness</th>\n      <td>63194</td>\n      <td>3.627853</td>\n    </tr>\n    <tr>\n      <th>surprise</th>\n      <td>10142</td>\n      <td>0.582234</td>\n    </tr>\n  </tbody>\n</table>\n</div>"
     },
     "execution_count": 10,
     "metadata": {},
     "output_type": "execute_result"
    }
   ],
   "source": [
    "grp = pd.DataFrame(grp)\n",
    "grp['percent'] = grp.id.map(lambda x: (x * 100)/len(users_bio_distilbert))\n",
    "grp"
   ],
   "metadata": {
    "collapsed": false,
    "pycharm": {
     "name": "#%%\n"
    }
   }
  },
  {
   "cell_type": "code",
   "execution_count": 6,
   "outputs": [
    {
     "data": {
      "text/plain": "1.0000000461004672"
     },
     "execution_count": 6,
     "metadata": {},
     "output_type": "execute_result"
    }
   ],
   "source": [
    "users_bio_distilbert.loc[0, ['sadness', 'joy', 'love', 'anger', 'fear', 'surprise']].sum()"
   ],
   "metadata": {
    "collapsed": false,
    "pycharm": {
     "name": "#%%\n"
    }
   }
  },
  {
   "cell_type": "code",
   "execution_count": 7,
   "outputs": [],
   "source": [
    "sum_probs = []\n",
    "for i in users_bio_distilbert.index:\n",
    "    sum_probs.append(users_bio_distilbert.loc[i, ['sadness', 'joy', 'love', 'anger', 'fear', 'surprise']].sum())\n"
   ],
   "metadata": {
    "collapsed": false,
    "pycharm": {
     "name": "#%%\n"
    }
   }
  },
  {
   "cell_type": "code",
   "execution_count": 8,
   "outputs": [],
   "source": [
    "users_bio_distilbert['sums']=sum_probs"
   ],
   "metadata": {
    "collapsed": false,
    "pycharm": {
     "name": "#%%\n"
    }
   }
  },
  {
   "cell_type": "code",
   "execution_count": 9,
   "outputs": [
    {
     "data": {
      "text/plain": "                          id   sadness       joy      love     anger  \\\n0                  413080213  0.041237  0.758531  0.005717  0.091492   \n1                  493832011  0.001672  0.989075  0.001292  0.005647   \n2                 2989319032  0.031329  0.175984  0.005536  0.732789   \n3                 1042385216  0.018754  0.298485  0.062315  0.574024   \n4                  490149888  0.003129  0.971793  0.002522  0.017236   \n...                      ...       ...       ...       ...       ...   \n1741907   889910735073050627  0.001344  0.000766  0.000211  0.995538   \n1741908   836012302910414848  0.000564  0.972632  0.025366  0.000485   \n1741909  1307971887184654337  0.022885  0.505443  0.005269  0.423803   \n1741910           1250435179  0.005195  0.980053  0.002286  0.007358   \n1741911  1312589386232463360  0.037848  0.178979  0.006243  0.698467   \n\n             fear  surprise verdict  sums  \n0        0.098849  0.004173     joy   1.0  \n1        0.001596  0.000718     joy   1.0  \n2        0.050099  0.004264   anger   1.0  \n3        0.042194  0.004227   anger   1.0  \n4        0.004106  0.001214     joy   1.0  \n...           ...       ...     ...   ...  \n1741907  0.001940  0.000201   anger   1.0  \n1741908  0.000307  0.000645     joy   1.0  \n1741909  0.040328  0.002273     joy   1.0  \n1741910  0.004211  0.000896     joy   1.0  \n1741911  0.070666  0.007796   anger   1.0  \n\n[1741912 rows x 9 columns]",
      "text/html": "<div>\n<style scoped>\n    .dataframe tbody tr th:only-of-type {\n        vertical-align: middle;\n    }\n\n    .dataframe tbody tr th {\n        vertical-align: top;\n    }\n\n    .dataframe thead th {\n        text-align: right;\n    }\n</style>\n<table border=\"1\" class=\"dataframe\">\n  <thead>\n    <tr style=\"text-align: right;\">\n      <th></th>\n      <th>id</th>\n      <th>sadness</th>\n      <th>joy</th>\n      <th>love</th>\n      <th>anger</th>\n      <th>fear</th>\n      <th>surprise</th>\n      <th>verdict</th>\n      <th>sums</th>\n    </tr>\n  </thead>\n  <tbody>\n    <tr>\n      <th>0</th>\n      <td>413080213</td>\n      <td>0.041237</td>\n      <td>0.758531</td>\n      <td>0.005717</td>\n      <td>0.091492</td>\n      <td>0.098849</td>\n      <td>0.004173</td>\n      <td>joy</td>\n      <td>1.0</td>\n    </tr>\n    <tr>\n      <th>1</th>\n      <td>493832011</td>\n      <td>0.001672</td>\n      <td>0.989075</td>\n      <td>0.001292</td>\n      <td>0.005647</td>\n      <td>0.001596</td>\n      <td>0.000718</td>\n      <td>joy</td>\n      <td>1.0</td>\n    </tr>\n    <tr>\n      <th>2</th>\n      <td>2989319032</td>\n      <td>0.031329</td>\n      <td>0.175984</td>\n      <td>0.005536</td>\n      <td>0.732789</td>\n      <td>0.050099</td>\n      <td>0.004264</td>\n      <td>anger</td>\n      <td>1.0</td>\n    </tr>\n    <tr>\n      <th>3</th>\n      <td>1042385216</td>\n      <td>0.018754</td>\n      <td>0.298485</td>\n      <td>0.062315</td>\n      <td>0.574024</td>\n      <td>0.042194</td>\n      <td>0.004227</td>\n      <td>anger</td>\n      <td>1.0</td>\n    </tr>\n    <tr>\n      <th>4</th>\n      <td>490149888</td>\n      <td>0.003129</td>\n      <td>0.971793</td>\n      <td>0.002522</td>\n      <td>0.017236</td>\n      <td>0.004106</td>\n      <td>0.001214</td>\n      <td>joy</td>\n      <td>1.0</td>\n    </tr>\n    <tr>\n      <th>...</th>\n      <td>...</td>\n      <td>...</td>\n      <td>...</td>\n      <td>...</td>\n      <td>...</td>\n      <td>...</td>\n      <td>...</td>\n      <td>...</td>\n      <td>...</td>\n    </tr>\n    <tr>\n      <th>1741907</th>\n      <td>889910735073050627</td>\n      <td>0.001344</td>\n      <td>0.000766</td>\n      <td>0.000211</td>\n      <td>0.995538</td>\n      <td>0.001940</td>\n      <td>0.000201</td>\n      <td>anger</td>\n      <td>1.0</td>\n    </tr>\n    <tr>\n      <th>1741908</th>\n      <td>836012302910414848</td>\n      <td>0.000564</td>\n      <td>0.972632</td>\n      <td>0.025366</td>\n      <td>0.000485</td>\n      <td>0.000307</td>\n      <td>0.000645</td>\n      <td>joy</td>\n      <td>1.0</td>\n    </tr>\n    <tr>\n      <th>1741909</th>\n      <td>1307971887184654337</td>\n      <td>0.022885</td>\n      <td>0.505443</td>\n      <td>0.005269</td>\n      <td>0.423803</td>\n      <td>0.040328</td>\n      <td>0.002273</td>\n      <td>joy</td>\n      <td>1.0</td>\n    </tr>\n    <tr>\n      <th>1741910</th>\n      <td>1250435179</td>\n      <td>0.005195</td>\n      <td>0.980053</td>\n      <td>0.002286</td>\n      <td>0.007358</td>\n      <td>0.004211</td>\n      <td>0.000896</td>\n      <td>joy</td>\n      <td>1.0</td>\n    </tr>\n    <tr>\n      <th>1741911</th>\n      <td>1312589386232463360</td>\n      <td>0.037848</td>\n      <td>0.178979</td>\n      <td>0.006243</td>\n      <td>0.698467</td>\n      <td>0.070666</td>\n      <td>0.007796</td>\n      <td>anger</td>\n      <td>1.0</td>\n    </tr>\n  </tbody>\n</table>\n<p>1741912 rows × 9 columns</p>\n</div>"
     },
     "execution_count": 9,
     "metadata": {},
     "output_type": "execute_result"
    }
   ],
   "source": [
    "users_bio_distilbert"
   ],
   "metadata": {
    "collapsed": false,
    "pycharm": {
     "name": "#%%\n"
    }
   }
  },
  {
   "cell_type": "code",
   "execution_count": 13,
   "outputs": [
    {
     "data": {
      "text/plain": "0"
     },
     "execution_count": 13,
     "metadata": {},
     "output_type": "execute_result"
    }
   ],
   "source": [
    "len(users_bio_distilbert[users_bio_distilbert.sums > 1.1])"
   ],
   "metadata": {
    "collapsed": false,
    "pycharm": {
     "name": "#%%\n"
    }
   }
  }
 ],
 "metadata": {
  "kernelspec": {
   "display_name": "Python 3.9.12 64-bit",
   "language": "python",
   "name": "python3"
  },
  "language_info": {
   "codemirror_mode": {
    "name": "ipython",
    "version": 3
   },
   "file_extension": ".py",
   "mimetype": "text/x-python",
   "name": "python",
   "nbconvert_exporter": "python",
   "pygments_lexer": "ipython3",
   "version": "3.9.12"
  },
  "orig_nbformat": 4,
  "vscode": {
   "interpreter": {
    "hash": "a7ec9632ab723649318b7ca7031f3d5d89aa92999d812f9776839d1395c47cf8"
   }
  }
 },
 "nbformat": 4,
 "nbformat_minor": 2
}