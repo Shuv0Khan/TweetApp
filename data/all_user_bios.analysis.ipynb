{
 "cells": [
  {
   "cell_type": "markdown",
   "metadata": {},
   "source": [
    "### All User Bios\n",
    "This file contans dump of all user bios while `all_users_all_metrics.csv` file was created."
   ]
  },
  {
   "cell_type": "code",
   "execution_count": 6,
   "metadata": {},
   "outputs": [],
   "source": [
    "import pandas as pd\n",
    "import re"
   ]
  },
  {
   "cell_type": "code",
   "execution_count": 8,
   "metadata": {},
   "outputs": [],
   "source": [
    "ids = []\n",
    "bios = []\n",
    "with open('all_user_bios.csv', mode='r', encoding='utf8') as fin:\n",
    "    id = ''\n",
    "    bio = None\n",
    "    for line in fin:\n",
    "        parts = line.strip().split('\\t')\n",
    "\n",
    "        if parts[0].isnumeric():\n",
    "            ids.append(id)\n",
    "            bios.append(bio)\n",
    "\n",
    "            id = parts[0].strip()\n",
    "            if len(parts) > 1:\n",
    "                bio = parts[1].strip()\n",
    "            else:\n",
    "                bio = None\n",
    "        else:\n",
    "            if bio is None:\n",
    "                bio = ''\n",
    "                \n",
    "            bio = bio + ' ' + parts[0].strip()\n",
    "            continue\n",
    "\n",
    "    ids.append(id)\n",
    "    bios.append(bio)\n",
    "\n",
    "all_user_bios = pd.DataFrame(data={'id': ids, 'bio': bios})"
   ]
  },
  {
   "cell_type": "code",
   "execution_count": 9,
   "metadata": {},
   "outputs": [
    {
     "name": "stdout",
     "output_type": "stream",
     "text": [
      "DataFrame infomation\n",
      "*************************************\n",
      "<class 'pandas.core.frame.DataFrame'>\n",
      "RangeIndex: 3353906 entries, 0 to 3353905\n",
      "Data columns (total 2 columns):\n",
      " #   Column  Dtype \n",
      "---  ------  ----- \n",
      " 0   id      object\n",
      " 1   bio     object\n",
      "dtypes: object(2)\n",
      "memory usage: 51.2+ MB\n"
     ]
    }
   ],
   "source": [
    "print('DataFrame infomation')\n",
    "print('*************************************')\n",
    "all_user_bios.info()"
   ]
  },
  {
   "cell_type": "code",
   "execution_count": 10,
   "metadata": {},
   "outputs": [
    {
     "name": "stdout",
     "output_type": "stream",
     "text": [
      "Users with no Bio\n",
      "*************************************\n",
      "<class 'pandas.core.frame.DataFrame'>\n",
      "Int64Index: 457058 entries, 0 to 3353895\n",
      "Data columns (total 2 columns):\n",
      " #   Column  Non-Null Count   Dtype \n",
      "---  ------  --------------   ----- \n",
      " 0   id      457058 non-null  object\n",
      " 1   bio     0 non-null       object\n",
      "dtypes: object(2)\n",
      "memory usage: 10.5+ MB\n"
     ]
    }
   ],
   "source": [
    "print('Users with no Bio')\n",
    "print('*************************************')\n",
    "no_bio = all_user_bios[all_user_bios.bio.isna()]\n",
    "no_bio.info()"
   ]
  },
  {
   "cell_type": "code",
   "execution_count": 5,
   "metadata": {},
   "outputs": [
    {
     "data": {
      "text/html": [
       "<div>\n",
       "<style scoped>\n",
       "    .dataframe tbody tr th:only-of-type {\n",
       "        vertical-align: middle;\n",
       "    }\n",
       "\n",
       "    .dataframe tbody tr th {\n",
       "        vertical-align: top;\n",
       "    }\n",
       "\n",
       "    .dataframe thead th {\n",
       "        text-align: right;\n",
       "    }\n",
       "</style>\n",
       "<table border=\"1\" class=\"dataframe\">\n",
       "  <thead>\n",
       "    <tr style=\"text-align: right;\">\n",
       "      <th></th>\n",
       "      <th>id</th>\n",
       "      <th>bio</th>\n",
       "    </tr>\n",
       "  </thead>\n",
       "  <tbody>\n",
       "    <tr>\n",
       "      <th>5</th>\n",
       "      <td>2209217329</td>\n",
       "      <td>None</td>\n",
       "    </tr>\n",
       "    <tr>\n",
       "      <th>13</th>\n",
       "      <td>2729361481</td>\n",
       "      <td>None</td>\n",
       "    </tr>\n",
       "    <tr>\n",
       "      <th>17</th>\n",
       "      <td>2276244313</td>\n",
       "      <td>None</td>\n",
       "    </tr>\n",
       "    <tr>\n",
       "      <th>57</th>\n",
       "      <td>2664454297</td>\n",
       "      <td>None</td>\n",
       "    </tr>\n",
       "    <tr>\n",
       "      <th>100</th>\n",
       "      <td>306014084</td>\n",
       "      <td>None</td>\n",
       "    </tr>\n",
       "  </tbody>\n",
       "</table>\n",
       "</div>"
      ],
      "text/plain": [
       "             id   bio\n",
       "5    2209217329  None\n",
       "13   2729361481  None\n",
       "17   2276244313  None\n",
       "57   2664454297  None\n",
       "100   306014084  None"
      ]
     },
     "execution_count": 5,
     "metadata": {},
     "output_type": "execute_result"
    }
   ],
   "source": [
    "no_bio.head()"
   ]
  },
  {
   "cell_type": "code",
   "execution_count": 7,
   "metadata": {},
   "outputs": [
    {
     "name": "stdout",
     "output_type": "stream",
     "text": [
      "Duplicated User IDs: 1320339\n"
     ]
    }
   ],
   "source": [
    "duplicated_userids = all_user_bios.duplicated(subset='id', keep='first')\n",
    "print(f'Duplicated User IDs: {len(duplicated_userids[duplicated_userids])}')"
   ]
  },
  {
   "cell_type": "markdown",
   "source": [
    "# Hashtags"
   ],
   "metadata": {
    "collapsed": false
   }
  },
  {
   "cell_type": "code",
   "execution_count": 1,
   "outputs": [
    {
     "name": "stderr",
     "output_type": "stream",
     "text": [
      "3348130it [00:03, 844477.01it/s]"
     ]
    },
    {
     "name": "stdout",
     "output_type": "stream",
     "text": [
      "278066\n"
     ]
    },
    {
     "name": "stderr",
     "output_type": "stream",
     "text": [
      "\n"
     ]
    }
   ],
   "source": [
    "import emoji\n",
    "from tqdm import tqdm\n",
    "\n",
    "hashtags = []\n",
    "with open('all_user_bios_hashtags.tsv', mode='r', encoding='utf8') as fin:\n",
    "    for line in tqdm(fin):\n",
    "        line = line.strip()\n",
    "        line = emoji.demojize(line)\n",
    "\n",
    "        if len(line) == 0:\n",
    "            continue\n",
    "\n",
    "        hashtags.extend(line.split(' '))\n",
    "\n",
    "print(len(set(hashtags)))\n"
   ],
   "metadata": {
    "collapsed": false,
    "pycharm": {
     "name": "#%%\n"
    }
   }
  }
 ],
 "metadata": {
  "interpreter": {
   "hash": "a7ec9632ab723649318b7ca7031f3d5d89aa92999d812f9776839d1395c47cf8"
  },
  "kernelspec": {
   "display_name": "Python 3.9.12 64-bit",
   "language": "python",
   "name": "python3"
  },
  "language_info": {
   "codemirror_mode": {
    "name": "ipython",
    "version": 3
   },
   "file_extension": ".py",
   "mimetype": "text/x-python",
   "name": "python",
   "nbconvert_exporter": "python",
   "pygments_lexer": "ipython3",
   "version": "3.9.12"
  },
  "orig_nbformat": 4
 },
 "nbformat": 4,
 "nbformat_minor": 2
}