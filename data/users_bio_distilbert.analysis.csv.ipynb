{
 "cells": [
  {
   "cell_type": "code",
   "execution_count": 7,
   "metadata": {
    "collapsed": true
   },
   "outputs": [],
   "source": [
    "import pandas as pd\n",
    "from collections import defaultdict\n",
    "\n",
    "import matplotlib.pyplot as plt\n",
    "import matplotlib.patches as mpatches\n",
    "%matplotlib inline\n",
    "\n",
    "pd.options.plotting.backend = \"plotly\"\n",
    "\n",
    "import plotly.express as px\n",
    "import plotly.graph_objects as go\n",
    "from pathlib import Path"
   ]
  },
  {
   "cell_type": "code",
   "execution_count": 2,
   "outputs": [],
   "source": [
    "distilbert_preds = './users_bio_distilbert.csv'\n",
    "users_bio_metrics_basic = './all_unique_user_public_metrics.csv'"
   ],
   "metadata": {
    "collapsed": false,
    "pycharm": {
     "name": "#%%\n"
    }
   }
  },
  {
   "cell_type": "code",
   "execution_count": 3,
   "outputs": [
    {
     "name": "stdout",
     "output_type": "stream",
     "text": [
      "<class 'pandas.core.frame.DataFrame'>\n",
      "RangeIndex: 2047292 entries, 0 to 2047291\n",
      "Data columns (total 7 columns):\n",
      " #   Column        Dtype \n",
      "---  ------        ----- \n",
      " 0   sl            int64 \n",
      " 1   id            string\n",
      " 2   username      string\n",
      " 3   follower      int32 \n",
      " 4   following     int32 \n",
      " 5   tweet_count   int32 \n",
      " 6   listed_count  int32 \n",
      "dtypes: int32(4), int64(1), string(2)\n",
      "memory usage: 78.1 MB\n"
     ]
    }
   ],
   "source": [
    "df = pd.read_csv(users_bio_metrics_basic, dtype={\n",
    "    'id': 'string',\n",
    "    'username': 'string',\n",
    "    'follower': 'int',\n",
    "    'following': 'int',\n",
    "    'tweet_count': 'int',\n",
    "    'listed_count': 'int'\n",
    "})\n",
    "df.info()"
   ],
   "metadata": {
    "collapsed": false,
    "pycharm": {
     "name": "#%%\n"
    }
   }
  },
  {
   "cell_type": "code",
   "execution_count": 4,
   "outputs": [
    {
     "data": {
      "text/plain": "   sl          id        username  follower  following  tweet_count  \\\n0   0   413080213    MichellePat4       869       3039        29514   \n1   1   493832011  QueenCityPride      1379        494         1831   \n2   2  2989319032     YesMeninism      4438          4          268   \n3   3  1042385216         mscgluk      4236       2274        98415   \n4   4   490149888           WZora       247        593         3637   \n\n   listed_count  \n0            25  \n1            45  \n2            14  \n3           128  \n4            12  ",
      "text/html": "<div>\n<style scoped>\n    .dataframe tbody tr th:only-of-type {\n        vertical-align: middle;\n    }\n\n    .dataframe tbody tr th {\n        vertical-align: top;\n    }\n\n    .dataframe thead th {\n        text-align: right;\n    }\n</style>\n<table border=\"1\" class=\"dataframe\">\n  <thead>\n    <tr style=\"text-align: right;\">\n      <th></th>\n      <th>sl</th>\n      <th>id</th>\n      <th>username</th>\n      <th>follower</th>\n      <th>following</th>\n      <th>tweet_count</th>\n      <th>listed_count</th>\n    </tr>\n  </thead>\n  <tbody>\n    <tr>\n      <th>0</th>\n      <td>0</td>\n      <td>413080213</td>\n      <td>MichellePat4</td>\n      <td>869</td>\n      <td>3039</td>\n      <td>29514</td>\n      <td>25</td>\n    </tr>\n    <tr>\n      <th>1</th>\n      <td>1</td>\n      <td>493832011</td>\n      <td>QueenCityPride</td>\n      <td>1379</td>\n      <td>494</td>\n      <td>1831</td>\n      <td>45</td>\n    </tr>\n    <tr>\n      <th>2</th>\n      <td>2</td>\n      <td>2989319032</td>\n      <td>YesMeninism</td>\n      <td>4438</td>\n      <td>4</td>\n      <td>268</td>\n      <td>14</td>\n    </tr>\n    <tr>\n      <th>3</th>\n      <td>3</td>\n      <td>1042385216</td>\n      <td>mscgluk</td>\n      <td>4236</td>\n      <td>2274</td>\n      <td>98415</td>\n      <td>128</td>\n    </tr>\n    <tr>\n      <th>4</th>\n      <td>4</td>\n      <td>490149888</td>\n      <td>WZora</td>\n      <td>247</td>\n      <td>593</td>\n      <td>3637</td>\n      <td>12</td>\n    </tr>\n  </tbody>\n</table>\n</div>"
     },
     "execution_count": 4,
     "metadata": {},
     "output_type": "execute_result"
    }
   ],
   "source": [
    "df.head()"
   ],
   "metadata": {
    "collapsed": false,
    "pycharm": {
     "name": "#%%\n"
    }
   }
  },
  {
   "cell_type": "code",
   "execution_count": 5,
   "outputs": [
    {
     "name": "stdout",
     "output_type": "stream",
     "text": [
      "<class 'pandas.core.frame.DataFrame'>\n",
      "RangeIndex: 1741915 entries, 0 to 1741914\n",
      "Data columns (total 8 columns):\n",
      " #   Column    Dtype  \n",
      "---  ------    -----  \n",
      " 0   id        string \n",
      " 1   sadness   float64\n",
      " 2   joy       float64\n",
      " 3   love      float64\n",
      " 4   anger     float64\n",
      " 5   fear      float64\n",
      " 6   surprise  float64\n",
      " 7   verdict   string \n",
      "dtypes: float64(6), string(2)\n",
      "memory usage: 106.3 MB\n"
     ]
    }
   ],
   "source": [
    "df_distil = pd.read_csv(distilbert_preds, sep=',', dtype={\n",
    "    'id': 'string',\n",
    "    'sadness': 'float',\n",
    "    'joy': 'float',\n",
    "    'love': 'float',\n",
    "    'anger': 'float',\n",
    "    'fear': 'float',\n",
    "    'surprise': 'float',\n",
    "    'verdict': 'string'\n",
    "}, encoding='ISO-8859-1')\n",
    "df_distil.info()"
   ],
   "metadata": {
    "collapsed": false,
    "pycharm": {
     "name": "#%%\n"
    }
   }
  },
  {
   "cell_type": "code",
   "execution_count": 8,
   "outputs": [],
   "source": [
    "set_of_users = defaultdict(dict)\n",
    "for i in df.index:\n",
    "    d = df.loc[i].to_dict()\n",
    "    set_of_users[d['id']] = d\n"
   ],
   "metadata": {
    "collapsed": false,
    "pycharm": {
     "name": "#%%\n"
    }
   }
  },
  {
   "cell_type": "code",
   "execution_count": 14,
   "outputs": [
    {
     "data": {
      "text/plain": "'2: '"
     },
     "execution_count": 14,
     "metadata": {},
     "output_type": "execute_result"
    }
   ],
   "source": [
    "df_distil.loc[250150, 'id']"
   ],
   "metadata": {
    "collapsed": false,
    "pycharm": {
     "name": "#%%\n"
    }
   }
  },
  {
   "cell_type": "code",
   "execution_count": 11,
   "outputs": [
    {
     "name": "stdout",
     "output_type": "stream",
     "text": [
      "2: \n"
     ]
    },
    {
     "ename": "KeyError",
     "evalue": "'follower'",
     "output_type": "error",
     "traceback": [
      "\u001B[1;31m---------------------------------------------------------------------------\u001B[0m",
      "\u001B[1;31mKeyError\u001B[0m                                  Traceback (most recent call last)",
      "Input \u001B[1;32mIn [11]\u001B[0m, in \u001B[0;36m<cell line: 5>\u001B[1;34m()\u001B[0m\n\u001B[0;32m      9\u001B[0m     \u001B[38;5;28mprint\u001B[39m(df_distil\u001B[38;5;241m.\u001B[39mloc[i, \u001B[38;5;124m'\u001B[39m\u001B[38;5;124mid\u001B[39m\u001B[38;5;124m'\u001B[39m])\n\u001B[0;32m     10\u001B[0m \u001B[38;5;66;03m#print(series)\u001B[39;00m\n\u001B[1;32m---> 11\u001B[0m df_distil\u001B[38;5;241m.\u001B[39mloc[i, \u001B[38;5;124m'\u001B[39m\u001B[38;5;124mfollowers\u001B[39m\u001B[38;5;124m'\u001B[39m] \u001B[38;5;241m=\u001B[39m \u001B[43md\u001B[49m\u001B[43m[\u001B[49m\u001B[38;5;124;43m'\u001B[39;49m\u001B[38;5;124;43mfollower\u001B[39;49m\u001B[38;5;124;43m'\u001B[39;49m\u001B[43m]\u001B[49m\n\u001B[0;32m     12\u001B[0m df_distil\u001B[38;5;241m.\u001B[39mloc[i, \u001B[38;5;124m'\u001B[39m\u001B[38;5;124mfollowings\u001B[39m\u001B[38;5;124m'\u001B[39m] \u001B[38;5;241m=\u001B[39m d[\u001B[38;5;124m'\u001B[39m\u001B[38;5;124mfollowing\u001B[39m\u001B[38;5;124m'\u001B[39m]\n\u001B[0;32m     13\u001B[0m df_distil\u001B[38;5;241m.\u001B[39mloc[i, \u001B[38;5;124m'\u001B[39m\u001B[38;5;124mtweets\u001B[39m\u001B[38;5;124m'\u001B[39m] \u001B[38;5;241m=\u001B[39m d[\u001B[38;5;124m'\u001B[39m\u001B[38;5;124mtweet_count\u001B[39m\u001B[38;5;124m'\u001B[39m]\n",
      "\u001B[1;31mKeyError\u001B[0m: 'follower'"
     ]
    }
   ],
   "source": [
    "df_distil['followers'] = 0\n",
    "df_distil['followings'] = 0\n",
    "df_distil['tweets'] = 0\n",
    "df_distil['listed'] = 0\n",
    "for i in df_distil.index:\n",
    "    print(i)\n",
    "    d = set_of_users[df_distil.loc[i, 'id']]\n",
    "    if len(d.keys()) == 0:\n",
    "        print(df_distil.loc[i, 'id'])\n",
    "    #print(series)\n",
    "    df_distil.loc[i, 'followers'] = d['follower']\n",
    "    df_distil.loc[i, 'followings'] = d['following']\n",
    "    df_distil.loc[i, 'tweets'] = d['tweet_count']\n",
    "    df_distil.loc[i, 'listed'] = d['listed_count']\n",
    "df_distil.head()"
   ],
   "metadata": {
    "collapsed": false,
    "pycharm": {
     "name": "#%%\n"
    }
   }
  },
  {
   "cell_type": "code",
   "execution_count": null,
   "outputs": [],
   "source": [],
   "metadata": {
    "collapsed": false,
    "pycharm": {
     "name": "#%%\n"
    }
   }
  }
 ],
 "metadata": {
  "kernelspec": {
   "display_name": "Python 3",
   "language": "python",
   "name": "python3"
  },
  "language_info": {
   "codemirror_mode": {
    "name": "ipython",
    "version": 2
   },
   "file_extension": ".py",
   "mimetype": "text/x-python",
   "name": "python",
   "nbconvert_exporter": "python",
   "pygments_lexer": "ipython2",
   "version": "2.7.6"
  }
 },
 "nbformat": 4,
 "nbformat_minor": 0
}