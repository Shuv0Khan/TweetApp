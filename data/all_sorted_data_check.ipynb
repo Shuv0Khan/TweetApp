{
 "cells": [
  {
   "cell_type": "code",
   "execution_count": 1,
   "metadata": {
    "collapsed": true
   },
   "outputs": [],
   "source": [
    "import pandas as pd\n",
    "from collections import defaultdict, Counter\n",
    "from tqdm import tqdm\n",
    "from more_itertools import take"
   ]
  },
  {
   "cell_type": "markdown",
   "source": [
    "## Load All Tweets sorted by id"
   ],
   "metadata": {
    "collapsed": false
   }
  },
  {
   "cell_type": "code",
   "execution_count": 2,
   "outputs": [
    {
     "name": "stderr",
     "output_type": "stream",
     "text": [
      "8581628it [00:18, 455467.50it/s]"
     ]
    },
    {
     "name": "stdout",
     "output_type": "stream",
     "text": [
      "\n",
      "Loaded ids from tweets: 8581627\n"
     ]
    },
    {
     "name": "stderr",
     "output_type": "stream",
     "text": [
      "\n"
     ]
    }
   ],
   "source": [
    "user_ids = defaultdict(dict)\n",
    "\n",
    "with open('../data/all_tweets_sorted.tsv', mode='r', encoding='utf8') as fin:\n",
    "    index = 1\n",
    "    for line in tqdm(fin):\n",
    "        if line.startswith('id'):\n",
    "            continue\n",
    "\n",
    "        parts = line.strip().split('\\t')\n",
    "        d_key = f'{index}_{parts[0].strip()}'\n",
    "        user_ids[d_key]['tweets'] = True\n",
    "        user_ids[d_key]['metrics'] = False\n",
    "        user_ids[d_key]['distil'] = False\n",
    "\n",
    "        index += 1\n",
    "\n",
    "print(f'\\nLoaded ids from tweets: {len(user_ids)}')"
   ],
   "metadata": {
    "collapsed": false,
    "pycharm": {
     "name": "#%%\n"
    }
   }
  },
  {
   "cell_type": "markdown",
   "source": [
    "## Load All Tweet metrics sorted by id"
   ],
   "metadata": {
    "collapsed": false
   }
  },
  {
   "cell_type": "code",
   "execution_count": 3,
   "outputs": [
    {
     "name": "stderr",
     "output_type": "stream",
     "text": [
      "8581628it [00:09, 890961.95it/s] \n"
     ]
    }
   ],
   "source": [
    "with open('../data/all_tweet_metrics_sorted.csv', mode='r', encoding='utf8') as fin:\n",
    "    index = 1\n",
    "    for line in tqdm(fin):\n",
    "        if line.startswith('id'):\n",
    "            continue\n",
    "\n",
    "        parts = line.strip().split(',')\n",
    "        d_key = f'{index}_{parts[0].strip()}'\n",
    "        if d_key not in user_ids:\n",
    "            user_ids[d_key]['tweets'] = False\n",
    "            user_ids[d_key]['distil'] = False\n",
    "\n",
    "        user_ids[d_key]['metrics'] = True\n",
    "        index += 1"
   ],
   "metadata": {
    "collapsed": false,
    "pycharm": {
     "name": "#%%\n"
    }
   }
  },
  {
   "cell_type": "markdown",
   "source": [
    "## Load All DistilBert results sorted by id"
   ],
   "metadata": {
    "collapsed": false
   }
  },
  {
   "cell_type": "code",
   "execution_count": 4,
   "outputs": [
    {
     "name": "stderr",
     "output_type": "stream",
     "text": [
      "8581628it [00:11, 733923.43it/s]\n"
     ]
    }
   ],
   "source": [
    "\n",
    "with open('../data/all_tweets_distilbert_sorted.csv', mode='r', encoding='utf8') as fin:\n",
    "    index = 1\n",
    "    for line in tqdm(fin):\n",
    "        if line.startswith('id'):\n",
    "            continue\n",
    "\n",
    "        parts = line.strip().split(',')\n",
    "        d_key = f'{index}_{parts[0].strip()}'\n",
    "        if d_key not in user_ids:\n",
    "            user_ids[d_key]['tweets'] = False\n",
    "            user_ids[d_key]['metrics'] = False\n",
    "\n",
    "        user_ids[d_key]['distil'] = True\n",
    "        index += 1"
   ],
   "metadata": {
    "collapsed": false,
    "pycharm": {
     "name": "#%%\n"
    }
   }
  },
  {
   "cell_type": "markdown",
   "source": [
    "## Make dataframe to compare"
   ],
   "metadata": {
    "collapsed": false
   }
  },
  {
   "cell_type": "code",
   "execution_count": 5,
   "outputs": [
    {
     "name": "stderr",
     "output_type": "stream",
     "text": [
      "100%|██████████| 8581627/8581627 [00:02<00:00, 3417468.69it/s]\n"
     ]
    },
    {
     "name": "stdout",
     "output_type": "stream",
     "text": [
      "<class 'pandas.core.frame.DataFrame'>\n",
      "RangeIndex: 8581627 entries, 0 to 8581626\n",
      "Data columns (total 4 columns):\n",
      " #   Column  Dtype \n",
      "---  ------  ----- \n",
      " 0   id      object\n",
      " 1   t       bool  \n",
      " 2   m       bool  \n",
      " 3   d       bool  \n",
      "dtypes: bool(3), object(1)\n",
      "memory usage: 90.0+ MB\n",
      "None\n",
      "           id     t     m     d\n",
      "0      1_7094  True  True  True\n",
      "1     2_56935  True  True  True\n",
      "2  3_10581681  True  True  True\n",
      "3  4_13458821  True  True  True\n",
      "4  5_22038081  True  True  True\n"
     ]
    }
   ],
   "source": [
    "data = []\n",
    "for d_key, d_val in tqdm(user_ids.items()):\n",
    "    data.append((d_key, d_val['tweets'], d_val['metrics'], d_val['distil']))\n",
    "\n",
    "df = pd.DataFrame(data, columns=['id', 't', 'm', 'd'])\n",
    "\n",
    "print(df.info())\n",
    "print(df.head())"
   ],
   "metadata": {
    "collapsed": false,
    "pycharm": {
     "name": "#%%\n"
    }
   }
  },
  {
   "cell_type": "markdown",
   "source": [
    "## Comparisons"
   ],
   "metadata": {
    "collapsed": false
   }
  },
  {
   "cell_type": "code",
   "execution_count": 6,
   "outputs": [
    {
     "data": {
      "text/plain": "8581627"
     },
     "execution_count": 6,
     "metadata": {},
     "output_type": "execute_result"
    }
   ],
   "source": [
    "len(df[(df.t == True) & (df.m == True) & (df.d == True)])"
   ],
   "metadata": {
    "collapsed": false,
    "pycharm": {
     "name": "#%%\n"
    }
   }
  },
  {
   "cell_type": "code",
   "execution_count": 7,
   "outputs": [
    {
     "data": {
      "text/plain": "16895377"
     },
     "execution_count": 7,
     "metadata": {},
     "output_type": "execute_result"
    }
   ],
   "source": [
    "len(df)"
   ],
   "metadata": {
    "collapsed": false,
    "pycharm": {
     "name": "#%%\n"
    }
   }
  },
  {
   "cell_type": "code",
   "execution_count": 8,
   "outputs": [
    {
     "data": {
      "text/plain": "8313750"
     },
     "execution_count": 8,
     "metadata": {},
     "output_type": "execute_result"
    }
   ],
   "source": [
    "len(df) - len(df[df.t])"
   ],
   "metadata": {
    "collapsed": false,
    "pycharm": {
     "name": "#%%\n"
    }
   }
  },
  {
   "cell_type": "code",
   "execution_count": 9,
   "outputs": [
    {
     "data": {
      "text/plain": "0"
     },
     "execution_count": 9,
     "metadata": {},
     "output_type": "execute_result"
    }
   ],
   "source": [
    "len(df[df.t & df.m]) - len(df[df.t])"
   ],
   "metadata": {
    "collapsed": false,
    "pycharm": {
     "name": "#%%\n"
    }
   }
  },
  {
   "cell_type": "code",
   "execution_count": 10,
   "outputs": [
    {
     "data": {
      "text/plain": "267777"
     },
     "execution_count": 10,
     "metadata": {},
     "output_type": "execute_result"
    }
   ],
   "source": [
    "len(df[df.t & df.d])"
   ],
   "metadata": {
    "collapsed": false,
    "pycharm": {
     "name": "#%%\n"
    }
   }
  },
  {
   "cell_type": "markdown",
   "source": [
    "## Detect Issue"
   ],
   "metadata": {
    "collapsed": false
   }
  },
  {
   "cell_type": "code",
   "execution_count": 11,
   "outputs": [
    {
     "data": {
      "text/plain": "0        7094\n1       56935\n2    10581681\n3    13458821\n4    22038081\nName: id, dtype: object"
     },
     "execution_count": 11,
     "metadata": {},
     "output_type": "execute_result"
    }
   ],
   "source": [
    "d_series = df.id[df.d]\n",
    "d_series = d_series.map(lambda x: x.split('_')[1])\n",
    "d_series.head()"
   ],
   "metadata": {
    "collapsed": false,
    "pycharm": {
     "name": "#%%\n"
    }
   }
  },
  {
   "cell_type": "code",
   "execution_count": 12,
   "outputs": [
    {
     "ename": "TypeError",
     "evalue": "'dict_items' object is not subscriptable",
     "output_type": "error",
     "traceback": [
      "\u001B[1;31m---------------------------------------------------------------------------\u001B[0m",
      "\u001B[1;31mTypeError\u001B[0m                                 Traceback (most recent call last)",
      "Input \u001B[1;32mIn [12]\u001B[0m, in \u001B[0;36m<cell line: 2>\u001B[1;34m()\u001B[0m\n\u001B[0;32m      1\u001B[0m d_counts \u001B[38;5;241m=\u001B[39m Counter(d_series)\n\u001B[1;32m----> 2\u001B[0m \u001B[43md_counts\u001B[49m\u001B[38;5;241;43m.\u001B[39;49m\u001B[43mitems\u001B[49m\u001B[43m(\u001B[49m\u001B[43m)\u001B[49m\u001B[43m[\u001B[49m\u001B[43m:\u001B[49m\u001B[38;5;241;43m5\u001B[39;49m\u001B[43m]\u001B[49m\n",
      "\u001B[1;31mTypeError\u001B[0m: 'dict_items' object is not subscriptable"
     ]
    }
   ],
   "source": [
    "d_counts = Counter(d_series)\n",
    "take(5, d_counts.items())"
   ],
   "metadata": {
    "collapsed": false,
    "pycharm": {
     "name": "#%%\n"
    }
   }
  },
  {
   "cell_type": "code",
   "execution_count": 16,
   "outputs": [
    {
     "data": {
      "text/plain": "0        7094\n1       56935\n2    10581681\n3    13458821\n4    22038081\nName: id, dtype: object"
     },
     "execution_count": 16,
     "metadata": {},
     "output_type": "execute_result"
    }
   ],
   "source": [
    "t_series = df.id[df.t]\n",
    "t_series = t_series.map(lambda x: x.split('_')[1])\n",
    "t_series.head()"
   ],
   "metadata": {
    "collapsed": false,
    "pycharm": {
     "name": "#%%\n"
    }
   }
  },
  {
   "cell_type": "code",
   "execution_count": 17,
   "outputs": [],
   "source": [
    "d_counts['7094']\n",
    "Out[19]: 1\n",
    "for i in t_series.index:\n",
    "    id = t_series.loc[i]\n",
    "    d_counts[id] -= 1"
   ],
   "metadata": {
    "collapsed": false,
    "pycharm": {
     "name": "#%%\n"
    }
   }
  },
  {
   "cell_type": "code",
   "execution_count": 18,
   "outputs": [
    {
     "data": {
      "text/plain": "[('7094', 0), ('56935', 0), ('10581681', 0), ('13458821', 0), ('22038081', 0)]"
     },
     "execution_count": 18,
     "metadata": {},
     "output_type": "execute_result"
    }
   ],
   "source": [
    "take(5, d_counts.items())"
   ],
   "metadata": {
    "collapsed": false,
    "pycharm": {
     "name": "#%%\n"
    }
   }
  },
  {
   "cell_type": "code",
   "execution_count": 19,
   "outputs": [
    {
     "name": "stderr",
     "output_type": "stream",
     "text": [
      "100%|██████████| 8163928/8163928 [00:01<00:00, 5670409.11it/s]"
     ]
    },
    {
     "name": "stdout",
     "output_type": "stream",
     "text": [
      "Mismatch: 97, Duplicated: 97, Not Done: 0\n"
     ]
    },
    {
     "name": "stderr",
     "output_type": "stream",
     "text": [
      "\n"
     ]
    }
   ],
   "source": [
    "mismatch = 0\n",
    "duplicated = 0\n",
    "not_done = 0\n",
    "\n",
    "for id, count in tqdm(d_counts.items()):\n",
    "    if count != 0:\n",
    "        mismatch += 1\n",
    "\n",
    "    if count < 0:\n",
    "        duplicated += 1\n",
    "    elif count > 0:\n",
    "        not_done += 1\n",
    "\n",
    "print(f'Mismatch: {mismatch}, Duplicated: {duplicated}, Not Done: {not_done}')\n"
   ],
   "metadata": {
    "collapsed": false,
    "pycharm": {
     "name": "#%%\n"
    }
   }
  },
  {
   "cell_type": "markdown",
   "source": [
    "## Separate Tweets not DistilBerted"
   ],
   "metadata": {
    "collapsed": false
   }
  },
  {
   "cell_type": "code",
   "execution_count": 2,
   "outputs": [
    {
     "name": "stderr",
     "output_type": "stream",
     "text": [
      "8581627it [00:26, 322348.75it/s]\n"
     ]
    }
   ],
   "source": [
    "tweets = defaultdict(list)\n",
    "with open('all_tweets.tsv', mode='r', encoding='utf8') as fin:\n",
    "    for line in tqdm(fin):\n",
    "        parts = line.strip().split('\\t')\n",
    "        parts[0] = parts[0][1:-1]\n",
    "        tweets[parts[0]].append(parts[1])"
   ],
   "metadata": {
    "collapsed": false,
    "pycharm": {
     "name": "#%%\n"
    }
   }
  },
  {
   "cell_type": "code",
   "execution_count": 3,
   "outputs": [
    {
     "name": "stderr",
     "output_type": "stream",
     "text": [
      "8581527it [00:30, 283987.64it/s]\n"
     ]
    }
   ],
   "source": [
    "with open('all_tweets_distilbert.csv', mode='r', encoding='utf8') as fin,\\\n",
    "    open('all_tweets_distilbert(2).csv', mode='w', encoding='utf8') as fout:\n",
    "\n",
    "    for line in tqdm(fin):\n",
    "        parts = line.strip().split(',')\n",
    "        d_key = parts[0][1:-1]\n",
    "\n",
    "        if d_key in tweets:\n",
    "            tweets[d_key].pop(0)\n",
    "            fout.write(line)"
   ],
   "metadata": {
    "collapsed": false,
    "pycharm": {
     "name": "#%%\n"
    }
   }
  },
  {
   "cell_type": "code",
   "execution_count": 5,
   "outputs": [
    {
     "name": "stderr",
     "output_type": "stream",
     "text": [
      "100%|██████████| 8163928/8163928 [00:01<00:00, 5940731.45it/s]\n"
     ]
    }
   ],
   "source": [
    "with open('all_tweets_distilbert_remaining.tsv', mode='w', encoding='utf8') as fout:\n",
    "    for d_key, d_val in tqdm(tweets.items()):\n",
    "        if len(d_val) > 0:\n",
    "            for twt in d_val:\n",
    "                fout.write(f'{d_key}\\t{twt.strip()}\\n')"
   ],
   "metadata": {
    "collapsed": false,
    "pycharm": {
     "name": "#%%\n"
    }
   }
  },
  {
   "cell_type": "markdown",
   "source": [
    "## After separation cross-match"
   ],
   "metadata": {
    "collapsed": false
   }
  },
  {
   "cell_type": "code",
   "execution_count": 13,
   "outputs": [
    {
     "data": {
      "text/plain": "          0         1         2         3         4         5         6  \\\n0      7094  0.013405  0.061273  0.886439  0.033778  0.002741  0.002365   \n1     56935  0.008617  0.876822  0.013390  0.080446  0.016895  0.003830   \n2  10581681  0.559070  0.005555  0.000891  0.422958  0.010552  0.000974   \n3  13458821  0.001669  0.005266  0.004516  0.956323  0.029439  0.002787   \n4  22038081  0.035983  0.002554  0.010766  0.943404  0.006737  0.000557   \n\n         7  \n0     love  \n1      joy  \n2  sadness  \n3    anger  \n4    anger  ",
      "text/html": "<div>\n<style scoped>\n    .dataframe tbody tr th:only-of-type {\n        vertical-align: middle;\n    }\n\n    .dataframe tbody tr th {\n        vertical-align: top;\n    }\n\n    .dataframe thead th {\n        text-align: right;\n    }\n</style>\n<table border=\"1\" class=\"dataframe\">\n  <thead>\n    <tr style=\"text-align: right;\">\n      <th></th>\n      <th>0</th>\n      <th>1</th>\n      <th>2</th>\n      <th>3</th>\n      <th>4</th>\n      <th>5</th>\n      <th>6</th>\n      <th>7</th>\n    </tr>\n  </thead>\n  <tbody>\n    <tr>\n      <th>0</th>\n      <td>7094</td>\n      <td>0.013405</td>\n      <td>0.061273</td>\n      <td>0.886439</td>\n      <td>0.033778</td>\n      <td>0.002741</td>\n      <td>0.002365</td>\n      <td>love</td>\n    </tr>\n    <tr>\n      <th>1</th>\n      <td>56935</td>\n      <td>0.008617</td>\n      <td>0.876822</td>\n      <td>0.013390</td>\n      <td>0.080446</td>\n      <td>0.016895</td>\n      <td>0.003830</td>\n      <td>joy</td>\n    </tr>\n    <tr>\n      <th>2</th>\n      <td>10581681</td>\n      <td>0.559070</td>\n      <td>0.005555</td>\n      <td>0.000891</td>\n      <td>0.422958</td>\n      <td>0.010552</td>\n      <td>0.000974</td>\n      <td>sadness</td>\n    </tr>\n    <tr>\n      <th>3</th>\n      <td>13458821</td>\n      <td>0.001669</td>\n      <td>0.005266</td>\n      <td>0.004516</td>\n      <td>0.956323</td>\n      <td>0.029439</td>\n      <td>0.002787</td>\n      <td>anger</td>\n    </tr>\n    <tr>\n      <th>4</th>\n      <td>22038081</td>\n      <td>0.035983</td>\n      <td>0.002554</td>\n      <td>0.010766</td>\n      <td>0.943404</td>\n      <td>0.006737</td>\n      <td>0.000557</td>\n      <td>anger</td>\n    </tr>\n  </tbody>\n</table>\n</div>"
     },
     "execution_count": 13,
     "metadata": {},
     "output_type": "execute_result"
    }
   ],
   "source": [
    "df = pd.read_csv('all_tweets_distilbert.csv', header=None)\n",
    "df.head()"
   ],
   "metadata": {
    "collapsed": false,
    "pycharm": {
     "name": "#%%\n"
    }
   }
  },
  {
   "cell_type": "code",
   "execution_count": 14,
   "outputs": [],
   "source": [
    "prev_counts = Counter(df.loc[:, 0])"
   ],
   "metadata": {
    "collapsed": false,
    "pycharm": {
     "name": "#%%\n"
    }
   }
  },
  {
   "cell_type": "code",
   "execution_count": 15,
   "outputs": [
    {
     "data": {
      "text/plain": "[(7094, 1), (56935, 1), (10581681, 1), (13458821, 1), (22038081, 1)]"
     },
     "execution_count": 15,
     "metadata": {},
     "output_type": "execute_result"
    }
   ],
   "source": [
    "take(5, prev_counts.items())"
   ],
   "metadata": {
    "collapsed": false,
    "pycharm": {
     "name": "#%%\n"
    }
   }
  },
  {
   "cell_type": "code",
   "execution_count": 16,
   "outputs": [
    {
     "data": {
      "text/plain": "          0         1         2         3         4         5         6  \\\n0      7094  0.013405  0.061273  0.886439  0.033778  0.002741  0.002365   \n1     56935  0.008617  0.876822  0.013390  0.080446  0.016895  0.003830   \n2  10581681  0.559070  0.005555  0.000891  0.422958  0.010552  0.000974   \n3  13458821  0.001669  0.005266  0.004516  0.956323  0.029439  0.002787   \n4  22038081  0.035983  0.002554  0.010766  0.943404  0.006737  0.000557   \n\n         7  \n0     love  \n1      joy  \n2  sadness  \n3    anger  \n4    anger  ",
      "text/html": "<div>\n<style scoped>\n    .dataframe tbody tr th:only-of-type {\n        vertical-align: middle;\n    }\n\n    .dataframe tbody tr th {\n        vertical-align: top;\n    }\n\n    .dataframe thead th {\n        text-align: right;\n    }\n</style>\n<table border=\"1\" class=\"dataframe\">\n  <thead>\n    <tr style=\"text-align: right;\">\n      <th></th>\n      <th>0</th>\n      <th>1</th>\n      <th>2</th>\n      <th>3</th>\n      <th>4</th>\n      <th>5</th>\n      <th>6</th>\n      <th>7</th>\n    </tr>\n  </thead>\n  <tbody>\n    <tr>\n      <th>0</th>\n      <td>7094</td>\n      <td>0.013405</td>\n      <td>0.061273</td>\n      <td>0.886439</td>\n      <td>0.033778</td>\n      <td>0.002741</td>\n      <td>0.002365</td>\n      <td>love</td>\n    </tr>\n    <tr>\n      <th>1</th>\n      <td>56935</td>\n      <td>0.008617</td>\n      <td>0.876822</td>\n      <td>0.013390</td>\n      <td>0.080446</td>\n      <td>0.016895</td>\n      <td>0.003830</td>\n      <td>joy</td>\n    </tr>\n    <tr>\n      <th>2</th>\n      <td>10581681</td>\n      <td>0.559070</td>\n      <td>0.005555</td>\n      <td>0.000891</td>\n      <td>0.422958</td>\n      <td>0.010552</td>\n      <td>0.000974</td>\n      <td>sadness</td>\n    </tr>\n    <tr>\n      <th>3</th>\n      <td>13458821</td>\n      <td>0.001669</td>\n      <td>0.005266</td>\n      <td>0.004516</td>\n      <td>0.956323</td>\n      <td>0.029439</td>\n      <td>0.002787</td>\n      <td>anger</td>\n    </tr>\n    <tr>\n      <th>4</th>\n      <td>22038081</td>\n      <td>0.035983</td>\n      <td>0.002554</td>\n      <td>0.010766</td>\n      <td>0.943404</td>\n      <td>0.006737</td>\n      <td>0.000557</td>\n      <td>anger</td>\n    </tr>\n  </tbody>\n</table>\n</div>"
     },
     "execution_count": 16,
     "metadata": {},
     "output_type": "execute_result"
    }
   ],
   "source": [
    "df = pd.read_csv('all_tweets_distilbert(2).csv', header=None)\n",
    "df.head()"
   ],
   "metadata": {
    "collapsed": false,
    "pycharm": {
     "name": "#%%\n"
    }
   }
  },
  {
   "cell_type": "code",
   "execution_count": 18,
   "outputs": [],
   "source": [
    "for i in df.index:\n",
    "    id = df.loc[i, 0]\n",
    "    if id in prev_counts:\n",
    "        prev_counts[id] -= 1\n",
    "    else:\n",
    "        print(f'error {id}')"
   ],
   "metadata": {
    "collapsed": false,
    "pycharm": {
     "name": "#%%\n"
    }
   }
  },
  {
   "cell_type": "code",
   "execution_count": null,
   "outputs": [],
   "source": [
    "ids = []\n",
    "for d_key, d_val in tqdm(prev_counts.items()):\n",
    "    if d_val != 0:\n",
    "        ids.append(d_key)\n",
    "\n",
    "print(len(ids))"
   ],
   "metadata": {
    "collapsed": false,
    "pycharm": {
     "name": "#%%\n"
    }
   }
  }
 ],
 "metadata": {
  "kernelspec": {
   "display_name": "Python 3",
   "language": "python",
   "name": "python3"
  },
  "language_info": {
   "codemirror_mode": {
    "name": "ipython",
    "version": 2
   },
   "file_extension": ".py",
   "mimetype": "text/x-python",
   "name": "python",
   "nbconvert_exporter": "python",
   "pygments_lexer": "ipython2",
   "version": "2.7.6"
  }
 },
 "nbformat": 4,
 "nbformat_minor": 0
}